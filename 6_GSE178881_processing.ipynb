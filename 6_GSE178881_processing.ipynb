{
 "cells": [
  {
   "cell_type": "code",
   "execution_count": 1,
   "id": "0a4c336f-9cbd-49af-822f-ca13fc639903",
   "metadata": {},
   "outputs": [
    {
     "name": "stderr",
     "output_type": "stream",
     "text": [
      "Loading required package: SeuratObject\n",
      "\n",
      "Loading required package: sp\n",
      "\n",
      "\n",
      "Attaching package: ‘SeuratObject’\n",
      "\n",
      "\n",
      "The following objects are masked from ‘package:base’:\n",
      "\n",
      "    intersect, t\n",
      "\n",
      "\n",
      "Loading required package: ggplot2\n",
      "\n",
      "\n",
      "Attaching package: ‘dplyr’\n",
      "\n",
      "\n",
      "The following objects are masked from ‘package:stats’:\n",
      "\n",
      "    filter, lag\n",
      "\n",
      "\n",
      "The following objects are masked from ‘package:base’:\n",
      "\n",
      "    intersect, setdiff, setequal, union\n",
      "\n",
      "\n"
     ]
    }
   ],
   "source": [
    "library(Seurat)\n",
    "library(scRepertoire)\n",
    "library(stringr)\n",
    "library(dplyr)\n",
    "library(tibble)"
   ]
  },
  {
   "cell_type": "code",
   "execution_count": 2,
   "id": "cdd4ee65-192f-45a0-8548-e97b1ca3bcbc",
   "metadata": {},
   "outputs": [
    {
     "data": {
      "text/html": [
       "<style>\n",
       ".list-inline {list-style: none; margin:0; padding: 0}\n",
       ".list-inline>li {display: inline-block}\n",
       ".list-inline>li:not(:last-child)::after {content: \"\\00b7\"; padding: 0 .5ex}\n",
       "</style>\n",
       "<ol class=list-inline><li>'D10LN'</li><li>'D10SP'</li><li>'D10TM'</li><li>'D20LN'</li><li>'D20LN_aPDL1'</li><li>'D20LN_Combo'</li><li>'D20LN_Vac'</li><li>'D20SP'</li><li>'D20TM'</li><li>'D20TM_aPDL1'</li><li>'D20TM_Combo'</li><li>'D20TM_Vac'</li></ol>\n"
      ],
      "text/latex": [
       "\\begin{enumerate*}\n",
       "\\item 'D10LN'\n",
       "\\item 'D10SP'\n",
       "\\item 'D10TM'\n",
       "\\item 'D20LN'\n",
       "\\item 'D20LN\\_aPDL1'\n",
       "\\item 'D20LN\\_Combo'\n",
       "\\item 'D20LN\\_Vac'\n",
       "\\item 'D20SP'\n",
       "\\item 'D20TM'\n",
       "\\item 'D20TM\\_aPDL1'\n",
       "\\item 'D20TM\\_Combo'\n",
       "\\item 'D20TM\\_Vac'\n",
       "\\end{enumerate*}\n"
      ],
      "text/markdown": [
       "1. 'D10LN'\n",
       "2. 'D10SP'\n",
       "3. 'D10TM'\n",
       "4. 'D20LN'\n",
       "5. 'D20LN_aPDL1'\n",
       "6. 'D20LN_Combo'\n",
       "7. 'D20LN_Vac'\n",
       "8. 'D20SP'\n",
       "9. 'D20TM'\n",
       "10. 'D20TM_aPDL1'\n",
       "11. 'D20TM_Combo'\n",
       "12. 'D20TM_Vac'\n",
       "\n",
       "\n"
      ],
      "text/plain": [
       " [1] \"D10LN\"       \"D10SP\"       \"D10TM\"       \"D20LN\"       \"D20LN_aPDL1\"\n",
       " [6] \"D20LN_Combo\" \"D20LN_Vac\"   \"D20SP\"       \"D20TM\"       \"D20TM_aPDL1\"\n",
       "[11] \"D20TM_Combo\" \"D20TM_Vac\"  "
      ]
     },
     "metadata": {},
     "output_type": "display_data"
    }
   ],
   "source": [
    "list.files('~/data1/eva/GSE178881/cellranger_out')"
   ]
  },
  {
   "cell_type": "code",
   "execution_count": 3,
   "id": "3f29428b-8a30-4fcc-9c0e-c2d3952cfe78",
   "metadata": {},
   "outputs": [],
   "source": [
    "gex_path <- function(sample) file.path('~/data1/eva/GSE178881/cellranger_out', sample, 'outs/per_sample_outs', sample, \n",
    "                                  'count/sample_filtered_feature_bc_matrix')\n",
    "obj_list <- list()\n",
    "for(sample in list.files('~/data1/eva/GSE178881/cellranger_out'))\n",
    "{\n",
    "    obj_i <- CreateSeuratObject(counts = Read10X(data.dir = gex_path(sample)), project = sample, min.cells = 0, min.features = 1)\n",
    "    obj_i <- RenameCells(object = obj_i, new.names = paste(sample,Cells(obj_i),sep='_'))\n",
    "    obj_list[[sample]] <- obj_i\n",
    "}"
   ]
  },
  {
   "cell_type": "code",
   "execution_count": 4,
   "id": "1d176bed-2593-4d0b-9b8f-a588a14a4eee",
   "metadata": {},
   "outputs": [
    {
     "data": {
      "text/plain": [
       "An object of class Seurat \n",
       "32285 features across 109561 samples within 1 assay \n",
       "Active assay: RNA (32285 features, 0 variable features)\n",
       " 1 layer present: counts"
      ]
     },
     "metadata": {},
     "output_type": "display_data"
    }
   ],
   "source": [
    "seu <- merge(x = obj_list[[1]], y = obj_list[2:length(obj_list)])\n",
    "seu <- JoinLayers(seu)\n",
    "seu"
   ]
  },
  {
   "cell_type": "code",
   "execution_count": 5,
   "id": "90516661-7116-4190-8468-5a516b97bd9d",
   "metadata": {},
   "outputs": [],
   "source": [
    "geo_meta <- read.csv('~/data1/eva/external/GSE178881_cell_information.txt', sep='\\t')"
   ]
  },
  {
   "cell_type": "code",
   "execution_count": 6,
   "id": "0fe49a14-1de4-44ae-b99d-a8aa1b0754e6",
   "metadata": {},
   "outputs": [],
   "source": [
    "geo_meta <- read.csv('~/data1/eva/external/GSE178881_cell_information.txt', sep='\\t')\n",
    "geo_meta$sample <- recode(geo_meta$sample, 'D10-LN-Ctrl'='D10LN','D10-SP-Ctrl'='D10SP','D10-TM-Ctrl'='D10TM','D20-LN-aPDL1'='D20LN_aPDL1',\n",
    "       'D20-LN-aPDL1&vac'='D20LN_Combo','D20-LN-Ctrl'='D20LN','D20-LN-vac'='D20LN_Vac','D20-SP-Ctrl'='D20SP',\n",
    "       'D20-TM-aPDL1'='D20TM_aPDL1','D20-TM-Ctrl'='D20TM','D20-TM-aPDL1&vac'='D20TM_Combo','D20-TM-vac'='D20TM_Vac')\n",
    "geo_meta$cell_barcode <- paste0(geo_meta$sample, '_', str_split_fixed(geo_meta$cell_barcode, '-', 2)[,1], '-1')\n",
    "geo_meta <- column_to_rownames(geo_meta, 'cell_barcode')"
   ]
  },
  {
   "cell_type": "code",
   "execution_count": 7,
   "id": "fdd0c179-7908-473f-887d-e955441779ac",
   "metadata": {},
   "outputs": [
    {
     "data": {
      "text/plain": [
       "NULL"
      ]
     },
     "metadata": {},
     "output_type": "display_data"
    }
   ],
   "source": [
    "tail(geo_meta$cell_barcode)"
   ]
  },
  {
   "cell_type": "code",
   "execution_count": 8,
   "id": "8f16c4e0-d54d-45f5-a781-f312c421b73d",
   "metadata": {},
   "outputs": [
    {
     "name": "stderr",
     "output_type": "stream",
     "text": [
      "Normalizing layer: counts\n",
      "\n"
     ]
    }
   ],
   "source": [
    "seu <- subset(seu, cells=rownames(geo_meta))\n",
    "seu <- NormalizeData(seu)\n",
    "seu <- AddMetaData(seu, geo_meta)"
   ]
  },
  {
   "cell_type": "code",
   "execution_count": 9,
   "id": "9eae2b86-a96d-4032-9a3f-dd6b56abe383",
   "metadata": {},
   "outputs": [
    {
     "data": {
      "text/html": [
       "<table class=\"dataframe\">\n",
       "<caption>A data.frame: 6 × 9</caption>\n",
       "<thead>\n",
       "\t<tr><th></th><th scope=col>orig.ident</th><th scope=col>nCount_RNA</th><th scope=col>nFeature_RNA</th><th scope=col>sample</th><th scope=col>a_cdr3</th><th scope=col>b_cdr3</th><th scope=col>ab_cdr3</th><th scope=col>clusters</th><th scope=col>tetramer.</th></tr>\n",
       "\t<tr><th></th><th scope=col>&lt;chr&gt;</th><th scope=col>&lt;dbl&gt;</th><th scope=col>&lt;int&gt;</th><th scope=col>&lt;chr&gt;</th><th scope=col>&lt;chr&gt;</th><th scope=col>&lt;chr&gt;</th><th scope=col>&lt;chr&gt;</th><th scope=col>&lt;chr&gt;</th><th scope=col>&lt;lgl&gt;</th></tr>\n",
       "</thead>\n",
       "<tbody>\n",
       "\t<tr><th scope=row>D10LN_AAACCTGAGAAACGAG-1</th><td>D10LN</td><td>6553</td><td>2108</td><td>D10LN</td><td>CAASSDSNYQLIW </td><td>CASSLTTNSDYTF </td><td><span style=white-space:pre-wrap>TRA:CAASSDSNYQLIW&amp;TRB:CASSLTTNSDYTF  </span></td><td>CD8-01-Sell-P.na</td><td>FALSE</td></tr>\n",
       "\t<tr><th scope=row>D10LN_AAACCTGAGAAGGCCT-1</th><td>D10LN</td><td>4630</td><td>1636</td><td>D10LN</td><td>NA            </td><td>CAEGTEVFF     </td><td>NA                                   </td><td>CD8-01-Sell-P.na</td><td>FALSE</td></tr>\n",
       "\t<tr><th scope=row>D10LN_AAACCTGAGCGAGAAA-1</th><td>D10LN</td><td>3934</td><td>1497</td><td>D10LN</td><td><span style=white-space:pre-wrap>CALGGNNNAPRF  </span></td><td>CASRAGHPNTEVFF</td><td><span style=white-space:pre-wrap>TRA:CALGGNNNAPRF&amp;TRB:CASRAGHPNTEVFF  </span></td><td>CD8-01-Sell-P.na</td><td>FALSE</td></tr>\n",
       "\t<tr><th scope=row>D10LN_AAACCTGAGCTCTCGG-1</th><td>D10LN</td><td>3203</td><td>1466</td><td>D10LN</td><td>NA            </td><td>CASSLDRNSDYTF </td><td>NA                                   </td><td>CD4-01-Tcf7-P.na</td><td>FALSE</td></tr>\n",
       "\t<tr><th scope=row>D10LN_AAACCTGCACATTAGC-1</th><td>D10LN</td><td>6549</td><td>2014</td><td>D10LN</td><td>CAIDRVSNYNVLYF</td><td>CASSPRLGVYEQYF</td><td>TRA:CAIDRVSNYNVLYF&amp;TRB:CASSPRLGVYEQYF</td><td>CD8-01-Sell-P.na</td><td>FALSE</td></tr>\n",
       "\t<tr><th scope=row>D10LN_AAACCTGCACTATCTT-1</th><td>D10LN</td><td>5765</td><td>2037</td><td>D10LN</td><td><span style=white-space:pre-wrap>CAVSNMGYKLTF  </span></td><td><span style=white-space:pre-wrap>CAWGTGENTLYF  </span></td><td><span style=white-space:pre-wrap>TRA:CAVSNMGYKLTF&amp;TRB:CAWGTGENTLYF    </span></td><td>CD8-01-Sell-P.na</td><td>FALSE</td></tr>\n",
       "</tbody>\n",
       "</table>\n"
      ],
      "text/latex": [
       "A data.frame: 6 × 9\n",
       "\\begin{tabular}{r|lllllllll}\n",
       "  & orig.ident & nCount\\_RNA & nFeature\\_RNA & sample & a\\_cdr3 & b\\_cdr3 & ab\\_cdr3 & clusters & tetramer.\\\\\n",
       "  & <chr> & <dbl> & <int> & <chr> & <chr> & <chr> & <chr> & <chr> & <lgl>\\\\\n",
       "\\hline\n",
       "\tD10LN\\_AAACCTGAGAAACGAG-1 & D10LN & 6553 & 2108 & D10LN & CAASSDSNYQLIW  & CASSLTTNSDYTF  & TRA:CAASSDSNYQLIW\\&TRB:CASSLTTNSDYTF   & CD8-01-Sell-P.na & FALSE\\\\\n",
       "\tD10LN\\_AAACCTGAGAAGGCCT-1 & D10LN & 4630 & 1636 & D10LN & NA             & CAEGTEVFF      & NA                                    & CD8-01-Sell-P.na & FALSE\\\\\n",
       "\tD10LN\\_AAACCTGAGCGAGAAA-1 & D10LN & 3934 & 1497 & D10LN & CALGGNNNAPRF   & CASRAGHPNTEVFF & TRA:CALGGNNNAPRF\\&TRB:CASRAGHPNTEVFF   & CD8-01-Sell-P.na & FALSE\\\\\n",
       "\tD10LN\\_AAACCTGAGCTCTCGG-1 & D10LN & 3203 & 1466 & D10LN & NA             & CASSLDRNSDYTF  & NA                                    & CD4-01-Tcf7-P.na & FALSE\\\\\n",
       "\tD10LN\\_AAACCTGCACATTAGC-1 & D10LN & 6549 & 2014 & D10LN & CAIDRVSNYNVLYF & CASSPRLGVYEQYF & TRA:CAIDRVSNYNVLYF\\&TRB:CASSPRLGVYEQYF & CD8-01-Sell-P.na & FALSE\\\\\n",
       "\tD10LN\\_AAACCTGCACTATCTT-1 & D10LN & 5765 & 2037 & D10LN & CAVSNMGYKLTF   & CAWGTGENTLYF   & TRA:CAVSNMGYKLTF\\&TRB:CAWGTGENTLYF     & CD8-01-Sell-P.na & FALSE\\\\\n",
       "\\end{tabular}\n"
      ],
      "text/markdown": [
       "\n",
       "A data.frame: 6 × 9\n",
       "\n",
       "| <!--/--> | orig.ident &lt;chr&gt; | nCount_RNA &lt;dbl&gt; | nFeature_RNA &lt;int&gt; | sample &lt;chr&gt; | a_cdr3 &lt;chr&gt; | b_cdr3 &lt;chr&gt; | ab_cdr3 &lt;chr&gt; | clusters &lt;chr&gt; | tetramer. &lt;lgl&gt; |\n",
       "|---|---|---|---|---|---|---|---|---|---|\n",
       "| D10LN_AAACCTGAGAAACGAG-1 | D10LN | 6553 | 2108 | D10LN | CAASSDSNYQLIW  | CASSLTTNSDYTF  | TRA:CAASSDSNYQLIW&amp;TRB:CASSLTTNSDYTF   | CD8-01-Sell-P.na | FALSE |\n",
       "| D10LN_AAACCTGAGAAGGCCT-1 | D10LN | 4630 | 1636 | D10LN | NA             | CAEGTEVFF      | NA                                    | CD8-01-Sell-P.na | FALSE |\n",
       "| D10LN_AAACCTGAGCGAGAAA-1 | D10LN | 3934 | 1497 | D10LN | CALGGNNNAPRF   | CASRAGHPNTEVFF | TRA:CALGGNNNAPRF&amp;TRB:CASRAGHPNTEVFF   | CD8-01-Sell-P.na | FALSE |\n",
       "| D10LN_AAACCTGAGCTCTCGG-1 | D10LN | 3203 | 1466 | D10LN | NA             | CASSLDRNSDYTF  | NA                                    | CD4-01-Tcf7-P.na | FALSE |\n",
       "| D10LN_AAACCTGCACATTAGC-1 | D10LN | 6549 | 2014 | D10LN | CAIDRVSNYNVLYF | CASSPRLGVYEQYF | TRA:CAIDRVSNYNVLYF&amp;TRB:CASSPRLGVYEQYF | CD8-01-Sell-P.na | FALSE |\n",
       "| D10LN_AAACCTGCACTATCTT-1 | D10LN | 5765 | 2037 | D10LN | CAVSNMGYKLTF   | CAWGTGENTLYF   | TRA:CAVSNMGYKLTF&amp;TRB:CAWGTGENTLYF     | CD8-01-Sell-P.na | FALSE |\n",
       "\n"
      ],
      "text/plain": [
       "                         orig.ident nCount_RNA nFeature_RNA sample\n",
       "D10LN_AAACCTGAGAAACGAG-1 D10LN      6553       2108         D10LN \n",
       "D10LN_AAACCTGAGAAGGCCT-1 D10LN      4630       1636         D10LN \n",
       "D10LN_AAACCTGAGCGAGAAA-1 D10LN      3934       1497         D10LN \n",
       "D10LN_AAACCTGAGCTCTCGG-1 D10LN      3203       1466         D10LN \n",
       "D10LN_AAACCTGCACATTAGC-1 D10LN      6549       2014         D10LN \n",
       "D10LN_AAACCTGCACTATCTT-1 D10LN      5765       2037         D10LN \n",
       "                         a_cdr3         b_cdr3        \n",
       "D10LN_AAACCTGAGAAACGAG-1 CAASSDSNYQLIW  CASSLTTNSDYTF \n",
       "D10LN_AAACCTGAGAAGGCCT-1 NA             CAEGTEVFF     \n",
       "D10LN_AAACCTGAGCGAGAAA-1 CALGGNNNAPRF   CASRAGHPNTEVFF\n",
       "D10LN_AAACCTGAGCTCTCGG-1 NA             CASSLDRNSDYTF \n",
       "D10LN_AAACCTGCACATTAGC-1 CAIDRVSNYNVLYF CASSPRLGVYEQYF\n",
       "D10LN_AAACCTGCACTATCTT-1 CAVSNMGYKLTF   CAWGTGENTLYF  \n",
       "                         ab_cdr3                               clusters        \n",
       "D10LN_AAACCTGAGAAACGAG-1 TRA:CAASSDSNYQLIW&TRB:CASSLTTNSDYTF   CD8-01-Sell-P.na\n",
       "D10LN_AAACCTGAGAAGGCCT-1 NA                                    CD8-01-Sell-P.na\n",
       "D10LN_AAACCTGAGCGAGAAA-1 TRA:CALGGNNNAPRF&TRB:CASRAGHPNTEVFF   CD8-01-Sell-P.na\n",
       "D10LN_AAACCTGAGCTCTCGG-1 NA                                    CD4-01-Tcf7-P.na\n",
       "D10LN_AAACCTGCACATTAGC-1 TRA:CAIDRVSNYNVLYF&TRB:CASSPRLGVYEQYF CD8-01-Sell-P.na\n",
       "D10LN_AAACCTGCACTATCTT-1 TRA:CAVSNMGYKLTF&TRB:CAWGTGENTLYF     CD8-01-Sell-P.na\n",
       "                         tetramer.\n",
       "D10LN_AAACCTGAGAAACGAG-1 FALSE    \n",
       "D10LN_AAACCTGAGAAGGCCT-1 FALSE    \n",
       "D10LN_AAACCTGAGCGAGAAA-1 FALSE    \n",
       "D10LN_AAACCTGAGCTCTCGG-1 FALSE    \n",
       "D10LN_AAACCTGCACATTAGC-1 FALSE    \n",
       "D10LN_AAACCTGCACTATCTT-1 FALSE    "
      ]
     },
     "metadata": {},
     "output_type": "display_data"
    }
   ],
   "source": [
    "head(seu@meta.data)"
   ]
  },
  {
   "cell_type": "code",
   "execution_count": 10,
   "id": "26c8356e-a916-4de6-b138-de4b102881bc",
   "metadata": {},
   "outputs": [],
   "source": [
    "tcr_path <- function(sample) file.path('~/data1/eva/GSE178881/cellranger_out', sample, 'outs/per_sample_outs', sample, \n",
    "                                  'vdj_t/filtered_contig_annotations.csv')\n",
    "tcr_list <- list()\n",
    "for(sample in list.files('~/data1/eva/GSE178881/cellranger_out'))\n",
    "{\n",
    "    csv_i <- read.csv(tcr_path(sample))\n",
    "    tcr_list[[sample]] <- csv_i\n",
    "}\n",
    "combined_tcr <- combineTCR(tcr_list, samples = names(tcr_list))"
   ]
  },
  {
   "cell_type": "code",
   "execution_count": 11,
   "id": "4b5a479b-5b16-45c9-9754-30ee5c74db59",
   "metadata": {},
   "outputs": [],
   "source": [
    "seu$sample <- seu$orig.ident\n",
    "seu <- combineExpression(combined_tcr, seu, \n",
    "                  cloneCall=\"aa\", \n",
    "                  group.by = \"sample\", \n",
    "                  proportion = FALSE, \n",
    "                  cloneSize=c(Single=1, Small=5, Medium=20, Large=100, Hyperexpanded=1000))"
   ]
  },
  {
   "cell_type": "code",
   "execution_count": 12,
   "id": "4a5cf6f5-6bdd-41aa-8b8d-d55f085830df",
   "metadata": {},
   "outputs": [],
   "source": [
    "saveRDS(seu, 'data/GSE178881_tcr.rds')"
   ]
  }
 ],
 "metadata": {
  "kernelspec": {
   "display_name": "R",
   "language": "R",
   "name": "ir"
  },
  "language_info": {
   "codemirror_mode": "r",
   "file_extension": ".r",
   "mimetype": "text/x-r-source",
   "name": "R",
   "pygments_lexer": "r",
   "version": "4.4.1"
  }
 },
 "nbformat": 4,
 "nbformat_minor": 5
}
