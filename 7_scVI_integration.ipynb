{
 "cells": [
  {
   "cell_type": "code",
   "execution_count": 1,
   "id": "8b4e40fb-05c7-4a63-98c9-ebf1eac43450",
   "metadata": {},
   "outputs": [],
   "source": [
    "import scvi\n",
    "import scanpy as sc\n",
    "import anndata as ad\n",
    "import numpy as np\n",
    "import matplotlib.pyplot as plt"
   ]
  },
  {
   "cell_type": "code",
   "execution_count": 2,
   "id": "f4956c19-4ffa-46eb-b75b-6f5c6ff7607d",
   "metadata": {},
   "outputs": [],
   "source": [
    "adata = sc.read_h5ad('data/merged_tc.h5ad')\n",
    "adata.X = adata.X.tocsr()"
   ]
  },
  {
   "cell_type": "code",
   "execution_count": 3,
   "id": "5e437b86-de1b-4fd9-b080-bb8740632dcd",
   "metadata": {},
   "outputs": [
    {
     "data": {
      "text/plain": [
       "AnnData object with n_obs × n_vars = 110846 × 32285\n",
       "    obs: 'orig.ident', 'nCount_RNA', 'nFeature_RNA', 'treatment', 'aCTLA4', 'VLP', 'percent.mt', 'batch', 'scDblFinder.class', 'scDblFinder.score', 'seurat_clusters', 'type', 'annotation', 'cluster_annotation', 'CDsubset', 'dataset', 'sample', 'a_cdr3', 'b_cdr3', 'ab_cdr3', 'clusters', 'tetramer.'\n",
       "    var: 'vf_vst_counts.1_mean', 'vf_vst_counts.1_variance', 'vf_vst_counts.1_variance.expected', 'vf_vst_counts.1_variance.standardized', 'vf_vst_counts.1_variable', 'vf_vst_counts.1_rank', 'var.features', 'var.features.rank'"
      ]
     },
     "execution_count": 3,
     "metadata": {},
     "output_type": "execute_result"
    }
   ],
   "source": [
    "adata"
   ]
  },
  {
   "cell_type": "markdown",
   "id": "8275c687-1187-4c7d-9717-632a46611516",
   "metadata": {},
   "source": [
    "# SCVI"
   ]
  },
  {
   "cell_type": "code",
   "execution_count": 4,
   "id": "c8914c4d-617e-46d5-b24f-acf391bcefeb",
   "metadata": {},
   "outputs": [],
   "source": [
    "scvi.model.SCVI.setup_anndata(adata, batch_key = 'orig.ident', categorical_covariate_keys=['dataset'])"
   ]
  },
  {
   "cell_type": "code",
   "execution_count": 5,
   "id": "9687465d-d8b1-4497-a533-e918d5bc9d26",
   "metadata": {},
   "outputs": [],
   "source": [
    "model = scvi.model.SCVI(adata, dropout_rate=0.2, n_layers=2)"
   ]
  },
  {
   "cell_type": "code",
   "execution_count": 6,
   "id": "092f82c5-8c67-4b6e-bdbf-b06bbb1cb851",
   "metadata": {},
   "outputs": [
    {
     "name": "stderr",
     "output_type": "stream",
     "text": [
      "Trainer will use only 1 of 4 GPUs because it is running inside an interactive / notebook environment. You may try to set `Trainer(devices=4)` but please note that multi-GPU inside interactive / notebook environments is considered experimental and unstable. Your mileage may vary.\n",
      "GPU available: True (cuda), used: True\n",
      "TPU available: False, using: 0 TPU cores\n",
      "HPU available: False, using: 0 HPUs\n",
      "You are using a CUDA device ('NVIDIA RTX 6000 Ada Generation') that has Tensor Cores. To properly utilize them, you should set `torch.set_float32_matmul_precision('medium' | 'high')` which will trade-off precision for performance. For more details, read https://pytorch.org/docs/stable/generated/torch.set_float32_matmul_precision.html#torch.set_float32_matmul_precision\n",
      "LOCAL_RANK: 0 - CUDA_VISIBLE_DEVICES: [0,1,2,3]\n",
      "/data/wliu12/miniconda3/envs/rnew/lib/python3.12/site-packages/lightning/pytorch/trainer/connectors/data_connector.py:424: The 'train_dataloader' does not have many workers which may be a bottleneck. Consider increasing the value of the `num_workers` argument` to `num_workers=63` in the `DataLoader` to improve performance.\n"
     ]
    },
    {
     "data": {
      "application/vnd.jupyter.widget-view+json": {
       "model_id": "e7db3d840cf74638974145ffee6a21ec",
       "version_major": 2,
       "version_minor": 0
      },
      "text/plain": [
       "Training:   0%|          | 0/72 [00:00<?, ?it/s]"
      ]
     },
     "metadata": {},
     "output_type": "display_data"
    },
    {
     "name": "stderr",
     "output_type": "stream",
     "text": [
      "`Trainer.fit` stopped: `max_epochs=72` reached.\n"
     ]
    }
   ],
   "source": [
    "model.train()"
   ]
  },
  {
   "cell_type": "code",
   "execution_count": 7,
   "id": "e1e23659-ba13-4abd-99bd-9cac0f59ccbe",
   "metadata": {},
   "outputs": [
    {
     "data": {
      "text/plain": [
       "(110846, 10)"
      ]
     },
     "execution_count": 7,
     "metadata": {},
     "output_type": "execute_result"
    }
   ],
   "source": [
    "latent = model.get_latent_representation()\n",
    "latent.shape"
   ]
  },
  {
   "cell_type": "code",
   "execution_count": 8,
   "id": "71d06a4d-17d2-4496-b7a9-9e6acc083de6",
   "metadata": {},
   "outputs": [],
   "source": [
    "np.savetxt('data/merged_tc_scvi_embedding.csv', latent, delimiter = ',')"
   ]
  }
 ],
 "metadata": {
  "kernelspec": {
   "display_name": "Python 3 (ipykernel)",
   "language": "python",
   "name": "python3"
  },
  "language_info": {
   "codemirror_mode": {
    "name": "ipython",
    "version": 3
   },
   "file_extension": ".py",
   "mimetype": "text/x-python",
   "name": "python",
   "nbconvert_exporter": "python",
   "pygments_lexer": "ipython3",
   "version": "3.12.5"
  }
 },
 "nbformat": 4,
 "nbformat_minor": 5
}
