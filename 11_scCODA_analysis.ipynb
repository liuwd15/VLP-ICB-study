{
 "cells": [
  {
   "cell_type": "code",
   "execution_count": 1,
   "id": "54ed0670-e699-47ce-b8d3-cc00003636d6",
   "metadata": {},
   "outputs": [
    {
     "name": "stderr",
     "output_type": "stream",
     "text": [
      "2025-03-13 16:01:18.372452: E external/local_xla/xla/stream_executor/cuda/cuda_fft.cc:485] Unable to register cuFFT factory: Attempting to register factory for plugin cuFFT when one has already been registered\n",
      "2025-03-13 16:01:18.383482: E external/local_xla/xla/stream_executor/cuda/cuda_dnn.cc:8454] Unable to register cuDNN factory: Attempting to register factory for plugin cuDNN when one has already been registered\n",
      "2025-03-13 16:01:18.386844: E external/local_xla/xla/stream_executor/cuda/cuda_blas.cc:1452] Unable to register cuBLAS factory: Attempting to register factory for plugin cuBLAS when one has already been registered\n",
      "2025-03-13 16:01:18.396390: I tensorflow/core/platform/cpu_feature_guard.cc:210] This TensorFlow binary is optimized to use available CPU instructions in performance-critical operations.\n",
      "To enable the following instructions: AVX2 FMA, in other operations, rebuild TensorFlow with the appropriate compiler flags.\n",
      "2025-03-13 16:01:19.018335: W tensorflow/compiler/tf2tensorrt/utils/py_utils.cc:38] TF-TRT Warning: Could not find TensorRT\n"
     ]
    }
   ],
   "source": [
    "import importlib\n",
    "import pandas as pd\n",
    "import pickle as pkl\n",
    "import matplotlib.pyplot as plt\n",
    "\n",
    "from sccoda.util import comp_ana as mod\n",
    "from sccoda.util import cell_composition_data as dat\n",
    "from sccoda.util import data_visualization as viz\n",
    "from sccoda.model import other_models as om"
   ]
  },
  {
   "cell_type": "code",
   "execution_count": 2,
   "id": "670d6513-17e5-4b18-87f6-8f96f37e86ad",
   "metadata": {},
   "outputs": [],
   "source": [
    "def run_sccoda(in_csv, out_csv, formula, fdr=0.2, num_results=50000, save_results=True): \n",
    "    cellcount = pd.read_csv(in_csv)\n",
    "    data_all = dat.from_pandas(cellcount, covariate_columns=['sample','batch','treatment','VLP','aCTLA4'])\n",
    "    model_all = mod.CompositionalAnalysis(data_all, formula=formula, reference_cell_type=\"automatic\")\n",
    "    sim_results = model_all.sample_hmc(num_results=num_results)\n",
    "    sim_results.set_fdr(est_fdr=fdr)\n",
    "    sim_results.effect_df.to_csv(out_csv)\n",
    "    if save_results:\n",
    "        sim_results.save(out_csv.replace('csv','pkl'))"
   ]
  },
  {
   "cell_type": "code",
   "execution_count": 3,
   "id": "8a1f366e-d3a0-4ebb-8a83-a80850e5ab15",
   "metadata": {},
   "outputs": [],
   "source": [
    "fdr_value = 0.2"
   ]
  },
  {
   "cell_type": "code",
   "execution_count": 4,
   "id": "dc6e15ea-ffb3-423e-885d-3e12ead778a9",
   "metadata": {},
   "outputs": [
    {
     "name": "stdout",
     "output_type": "stream",
     "text": [
      "Automatic reference selection! Reference cell type set to cDC1\n"
     ]
    },
    {
     "name": "stderr",
     "output_type": "stream",
     "text": [
      "WARNING: All log messages before absl::InitializeLog() is called are written to STDERR\n",
      "I0000 00:00:1741899680.453434  843562 cuda_executor.cc:1015] successful NUMA node read from SysFS had negative value (-1), but there must be at least one NUMA node, so returning NUMA node zero. See more at https://github.com/torvalds/linux/blob/v6.0/Documentation/ABI/testing/sysfs-bus-pci#L344-L355\n",
      "I0000 00:00:1741899680.454764  843562 cuda_executor.cc:1015] successful NUMA node read from SysFS had negative value (-1), but there must be at least one NUMA node, so returning NUMA node zero. See more at https://github.com/torvalds/linux/blob/v6.0/Documentation/ABI/testing/sysfs-bus-pci#L344-L355\n",
      "I0000 00:00:1741899680.456249  843562 cuda_executor.cc:1015] successful NUMA node read from SysFS had negative value (-1), but there must be at least one NUMA node, so returning NUMA node zero. See more at https://github.com/torvalds/linux/blob/v6.0/Documentation/ABI/testing/sysfs-bus-pci#L344-L355\n",
      "I0000 00:00:1741899680.457651  843562 cuda_executor.cc:1015] successful NUMA node read from SysFS had negative value (-1), but there must be at least one NUMA node, so returning NUMA node zero. See more at https://github.com/torvalds/linux/blob/v6.0/Documentation/ABI/testing/sysfs-bus-pci#L344-L355\n",
      "2025-03-13 16:01:20.554432: W tensorflow/core/common_runtime/gpu/gpu_device.cc:2343] Cannot dlopen some GPU libraries. Please make sure the missing libraries mentioned above are installed properly if you would like to use GPU. Follow the guide at https://www.tensorflow.org/install/gpu for how to download and setup the required libraries for your platform.\n",
      "Skipping registering GPU devices...\n",
      "  0%|                                                 | 0/50000 [00:00<?, ?it/s]WARNING: All log messages before absl::InitializeLog() is called are written to STDERR\n",
      "I0000 00:00:1741899684.501308  843818 service.cc:146] XLA service 0x740928007b90 initialized for platform Host (this does not guarantee that XLA will be used). Devices:\n",
      "I0000 00:00:1741899684.501411  843818 service.cc:154]   StreamExecutor device (0): Host, Default Version\n",
      "2025-03-13 16:01:24.781154: I tensorflow/compiler/mlir/tensorflow/utils/dump_mlir_util.cc:268] disabling MLIR crash reproducer, set env var `MLIR_CRASH_REPRODUCER_DIRECTORY` to enable.\n",
      "I0000 00:00:1741899685.733680  843818 device_compiler.h:188] Compiled cluster using XLA!  This line is logged at most once for the lifetime of the process.\n",
      "100%|████████████████████████████████████| 50000/50000 [04:16<00:00, 195.28it/s]\n"
     ]
    },
    {
     "name": "stdout",
     "output_type": "stream",
     "text": [
      "MCMC sampling finished. (284.251 sec)\n",
      "Acceptance rate: 47.4%\n"
     ]
    }
   ],
   "source": [
    "run_sccoda('csv/b16_cell_count.csv',f'csv/b16_type_sccoda_fdr{fdr_value}.csv',\n",
    "           \"batch+C(VLP, levels=['none', 'ID'])*C(aCTLA4, levels=['none', 'IV', 'ID'])\", fdr=fdr_value, num_results=50000)"
   ]
  },
  {
   "cell_type": "code",
   "execution_count": 5,
   "id": "70dcf2f6-8d80-4414-9883-f5a08b010eaa",
   "metadata": {},
   "outputs": [
    {
     "name": "stdout",
     "output_type": "stream",
     "text": [
      "Automatic reference selection! Reference cell type set to 12\n",
      "Zero counts encountered in data! Added a pseudocount of 0.5.\n"
     ]
    },
    {
     "name": "stderr",
     "output_type": "stream",
     "text": [
      "100%|████████████████████████████████████| 50000/50000 [04:41<00:00, 177.53it/s]\n"
     ]
    },
    {
     "name": "stdout",
     "output_type": "stream",
     "text": [
      "MCMC sampling finished. (310.826 sec)\n",
      "Acceptance rate: 38.1%\n"
     ]
    }
   ],
   "source": [
    "run_sccoda('csv/b16_tc_cell_count.csv',f'csv/b16_tc_sccoda_fdr{fdr_value}.csv',\n",
    "           \"batch+C(VLP, levels=['none', 'ID'])*C(aCTLA4, levels=['none', 'IV', 'ID'])\", fdr=fdr_value, num_results=50000)"
   ]
  },
  {
   "cell_type": "code",
   "execution_count": 6,
   "id": "1661d1a6-ab4c-4db7-bbc2-d97793143291",
   "metadata": {},
   "outputs": [
    {
     "name": "stdout",
     "output_type": "stream",
     "text": [
      "Automatic reference selection! Reference cell type set to Angio-TAM\n"
     ]
    },
    {
     "name": "stderr",
     "output_type": "stream",
     "text": [
      "100%|████████████████████████████████████| 50000/50000 [03:52<00:00, 214.87it/s]\n"
     ]
    },
    {
     "name": "stdout",
     "output_type": "stream",
     "text": [
      "MCMC sampling finished. (257.515 sec)\n",
      "Acceptance rate: 25.8%\n"
     ]
    }
   ],
   "source": [
    "run_sccoda('csv/b16_mac_cell_count.csv',f'csv/b16_mac_sccoda_fdr{fdr_value}.csv', \n",
    "           \"batch+C(VLP, levels=['none', 'ID'])*C(aCTLA4, levels=['none', 'IV', 'ID'])\", fdr=fdr_value,num_results=50000)"
   ]
  },
  {
   "cell_type": "code",
   "execution_count": 7,
   "id": "ce5812a9-5211-43e7-9baa-30e98bd1977a",
   "metadata": {},
   "outputs": [
    {
     "name": "stdout",
     "output_type": "stream",
     "text": [
      "Automatic reference selection! Reference cell type set to cDC1\n"
     ]
    },
    {
     "name": "stderr",
     "output_type": "stream",
     "text": [
      "100%|████████████████████████████████████| 50000/50000 [04:11<00:00, 198.87it/s]\n"
     ]
    },
    {
     "name": "stdout",
     "output_type": "stream",
     "text": [
      "MCMC sampling finished. (278.477 sec)\n",
      "Acceptance rate: 69.6%\n",
      "Automatic reference selection! Reference cell type set to 11\n",
      "Zero counts encountered in data! Added a pseudocount of 0.5.\n"
     ]
    },
    {
     "name": "stderr",
     "output_type": "stream",
     "text": [
      "100%|████████████████████████████████████| 50000/50000 [04:42<00:00, 176.99it/s]\n"
     ]
    },
    {
     "name": "stdout",
     "output_type": "stream",
     "text": [
      "WARNING:tensorflow:5 out of the last 5 calls to <function CompositionalModel.sampling.<locals>.sample_mcmc at 0x740c2c1e82c0> triggered tf.function retracing. Tracing is expensive and the excessive number of tracings could be due to (1) creating @tf.function repeatedly in a loop, (2) passing tensors with different shapes, (3) passing Python objects instead of tensors. For (1), please define your @tf.function outside of the loop. For (2), @tf.function has reduce_retracing=True option that can avoid unnecessary retracing. For (3), please refer to https://www.tensorflow.org/guide/function#controlling_retracing and https://www.tensorflow.org/api_docs/python/tf/function for  more details.\n",
      "MCMC sampling finished. (312.038 sec)\n",
      "Acceptance rate: 67.8%\n"
     ]
    }
   ],
   "source": [
    "run_sccoda('csv/b16_cell_count.csv',f'csv/b16_sccoda_fdr{fdr_value}.csv', \n",
    "           \"batch+C(VLP, levels=['none', 'ID'])*C(aCTLA4, levels=['none', 'IV', 'ID'])\", fdr=fdr_value,num_results=50000)"
   ]
  }
 ],
 "metadata": {
  "kernelspec": {
   "display_name": "Python 3 (ipykernel)",
   "language": "python",
   "name": "python3"
  },
  "language_info": {
   "codemirror_mode": {
    "name": "ipython",
    "version": 3
   },
   "file_extension": ".py",
   "mimetype": "text/x-python",
   "name": "python",
   "nbconvert_exporter": "python",
   "pygments_lexer": "ipython3",
   "version": "3.12.5"
  }
 },
 "nbformat": 4,
 "nbformat_minor": 5
}
